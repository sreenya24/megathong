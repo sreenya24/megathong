{
 "cells": [
  {
   "cell_type": "code",
   "execution_count": 1,
   "metadata": {},
   "outputs": [],
   "source": [
    "import numpy as np\n",
    "import pandas as pd"
   ]
  },
  {
   "cell_type": "code",
   "execution_count": 2,
   "metadata": {},
   "outputs": [],
   "source": [
    "data = pd.read_csv('./Food_Establishment_Inspection_Scores.csv')\n",
    "# data.head()"
   ]
  },
  {
   "cell_type": "code",
   "execution_count": 3,
   "metadata": {},
   "outputs": [],
   "source": [
    "data = data.drop(['Inspection Date', 'Address', 'Facility ID', 'Process Description'], axis = 1)\n",
    "# data.head()"
   ]
  },
  {
   "cell_type": "code",
   "execution_count": 4,
   "metadata": {},
   "outputs": [],
   "source": [
    "x = data['Zip Code'].values\n",
    "# x"
   ]
  },
  {
   "cell_type": "code",
   "execution_count": 5,
   "metadata": {},
   "outputs": [
    {
     "data": {
      "text/plain": [
       "78745.0"
      ]
     },
     "execution_count": 5,
     "metadata": {},
     "output_type": "execute_result"
    }
   ],
   "source": [
    "y = np.unique(x, return_counts = True)\n",
    "inp = y[0][np.argmax(y[1])]\n",
    "inp"
   ]
  },
  {
   "cell_type": "code",
   "execution_count": 59,
   "metadata": {},
   "outputs": [],
   "source": [
    "dist = np.abs(x - inp)\n",
    "# dist"
   ]
  },
  {
   "cell_type": "code",
   "execution_count": 60,
   "metadata": {},
   "outputs": [
    {
     "name": "stdout",
     "output_type": "stream",
     "text": [
      "Top rated restaurants nearby[in decreasing order]:\n",
      "Firefly Sushi\n",
      "Veronica Hood\n",
      "Mariposa Montessori School\n",
      "McDonald's  #6196\n",
      "El Chilito Tacos y Cafe\n"
     ]
    }
   ],
   "source": [
    "ind = np.argsort(dist)\n",
    "\n",
    "ans = data.iloc[ind[:5], [0, 2]]\n",
    "scor = ans['Score'].values\n",
    "ans = ans.drop(['Score'], axis = 1)\n",
    "ind = np.argsort(scor)[::-1]\n",
    "ans = ans.iloc[ind, :]\n",
    "ans = ans['Restaurant Name'].values\n",
    "print(\"Top rated restaurants nearby[in decreasing order]:\")\n",
    "for i in ans:\n",
    "    print(i)"
   ]
  }
 ],
 "metadata": {
  "kernelspec": {
   "display_name": "Python 3.10.4 64-bit",
   "language": "python",
   "name": "python3"
  },
  "language_info": {
   "codemirror_mode": {
    "name": "ipython",
    "version": 3
   },
   "file_extension": ".py",
   "mimetype": "text/x-python",
   "name": "python",
   "nbconvert_exporter": "python",
   "pygments_lexer": "ipython3",
   "version": "3.10.4"
  },
  "orig_nbformat": 4,
  "vscode": {
   "interpreter": {
    "hash": "77d8d1e087878d30b8828074a1865708e976255f32478b5050cf9536424e6ecf"
   }
  }
 },
 "nbformat": 4,
 "nbformat_minor": 2
}
