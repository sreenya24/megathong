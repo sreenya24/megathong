{
 "cells": [
  {
   "cell_type": "code",
   "execution_count": 10,
   "metadata": {},
   "outputs": [],
   "source": [
    "import shotstack_sdk as shotstack\n"
   ]
  },
  {
   "cell_type": "code",
   "execution_count": 11,
   "metadata": {},
   "outputs": [],
   "source": [
    "from shotstack_sdk.api import edit_api\n",
    "from shotstack_sdk.model.video_asset import VideoAsset\n",
    "from shotstack_sdk.model.clip import Clip\n",
    "from shotstack_sdk.model.track  import Track\n",
    "from shotstack_sdk.model.timeline import Timeline\n",
    "from shotstack_sdk.model.output import Output\n",
    "from shotstack_sdk.model.edit import Edit\n",
    "from shotstack_sdk.model.soundtrack  import Soundtrack\n",
    "from shotstack_sdk.model.image_asset import ImageAsset"
   ]
  },
  {
   "cell_type": "code",
   "execution_count": 12,
   "metadata": {},
   "outputs": [],
   "source": [
    "configuration = shotstack.Configuration(host = 'https://api.shotstack.io/stage')"
   ]
  },
  {
   "cell_type": "code",
   "execution_count": 13,
   "metadata": {},
   "outputs": [],
   "source": [
    "configuration.api_key['DeveloperKey'] = 'kHeZKeARi36RLdHDdbPqC9t4W85RrvIVakOC9LLG'"
   ]
  },
  {
   "cell_type": "code",
   "execution_count": 14,
   "metadata": {},
   "outputs": [],
   "source": [
    "with shotstack.ApiClient(configuration) as api_client:\n",
    "       api_instance = edit_api.EditApi(api_client)"
   ]
  },
  {
   "cell_type": "code",
   "execution_count": 20,
   "metadata": {},
   "outputs": [],
   "source": [
    "images = [\n",
    "    \"https://i.imgur.com/XqKjMGD.jpg\",\n",
    "    \"https://s3-ap-southeast-2.amazonaws.com/shotstack-assets/examples/images/pexels/pexels-photo-867452.jpeg\",\n",
    "    \"https://s3-ap-southeast-2.amazonaws.com/shotstack-assets/examples/images/pexels/pexels-photo-752036.jpeg\",\n",
    "    \"https://s3-ap-southeast-2.amazonaws.com/shotstack-assets/examples/images/pexels/pexels-photo-572487.jpeg\",\n",
    "    \"https://s3-ap-southeast-2.amazonaws.com/shotstack-assets/examples/images/pexels/pexels-photo-114977.jpeg\",\n",
    "    \"https://s3-ap-southeast-2.amazonaws.com/shotstack-assets/examples/images/pexels/pexels-photo-347143.jpeg\",\n",
    "    \"https://s3-ap-southeast-2.amazonaws.com/shotstack-assets/examples/images/pexels/pexels-photo-206290.jpeg\",\n",
    "    \"https://s3-ap-southeast-2.amazonaws.com/shotstack-assets/examples/images/pexels/pexels-photo-940301.jpeg\",\n",
    "    \"https://s3-ap-southeast-2.amazonaws.com/shotstack-assets/examples/images/pexels/pexels-photo-266583.jpeg\",\n",
    "    \"https://s3-ap-southeast-2.amazonaws.com/shotstack-assets/examples/images/pexels/pexels-photo-539432.jpeg\"\n",
    "]\n",
    "\n",
    "clips = []\n",
    "start = 0.0\n",
    "length = 1.5\n",
    "\n",
    "soundtrack = Soundtrack(\n",
    "       src=\"https://s3-ap-southeast-2.amazonaws.com/shotstack-assets/music/gangsta.mp3\",\n",
    "       effect=\"fadeInFadeOut\",\n",
    "       volume=1.0,\n",
    "       )\n",
    "\n",
    "for image in images:\n",
    "        imageAsset = ImageAsset(src=image)\n",
    "\n",
    "        clip = Clip(\n",
    "            asset=imageAsset,\n",
    "            start=start,\n",
    "            length=length,\n",
    "            effect=\"zoomIn\"\n",
    "        )\n",
    "\n",
    "        start = start + length\n",
    "        clips.append(clip)\n",
    "\n",
    "track = Track(clips=clips)\n",
    "\n",
    "timeline = Timeline(\n",
    "        background=\"#000000\",\n",
    "        soundtrack=soundtrack,\n",
    "        tracks=[track]\n",
    "    )\n",
    "\n",
    "output = Output(\n",
    "        format=\"mp4\",\n",
    "        resolution=\"sd\",\n",
    "        fps=30.0\n",
    "    )\n",
    "\n",
    "edit = Edit(\n",
    "        timeline=timeline,\n",
    "        output=output\n",
    "    )\n"
   ]
  },
  {
   "cell_type": "code",
   "execution_count": 21,
   "metadata": {},
   "outputs": [
    {
     "name": "stdout",
     "output_type": "stream",
     "text": [
      ">> python examples/status.py 079e8237-33a3-4173-b8c7-8cb2298d935f\n"
     ]
    }
   ],
   "source": [
    "api_response = api_instance.post_render(edit)\n",
    "id = api_response['response']['id']\n",
    "print(f\">> python examples/status.py {id}\")"
   ]
  },
  {
   "cell_type": "code",
   "execution_count": 24,
   "metadata": {},
   "outputs": [
    {
     "name": "stdout",
     "output_type": "stream",
     "text": [
      "Asset URL: https://shotstack-api-stage-output.s3-ap-southeast-2.amazonaws.com/fpms561i0a/079e8237-33a3-4173-b8c7-8cb2298d935f.mp4\n"
     ]
    }
   ],
   "source": [
    "api_response = api_instance.get_render(id)\n",
    "status = api_response['response']['status']\n",
    "\n",
    "if status == \"done\":\n",
    "    url = api_response['response']['url']\n",
    "    print(f\"Asset URL: {url}\")"
   ]
  },
  {
   "cell_type": "markdown",
   "metadata": {},
   "source": []
  }
 ],
 "metadata": {
  "kernelspec": {
   "display_name": "Python 3.9.12 ('base')",
   "language": "python",
   "name": "python3"
  },
  "language_info": {
   "codemirror_mode": {
    "name": "ipython",
    "version": 3
   },
   "file_extension": ".py",
   "mimetype": "text/x-python",
   "name": "python",
   "nbconvert_exporter": "python",
   "pygments_lexer": "ipython3",
   "version": "3.9.12"
  },
  "orig_nbformat": 4,
  "vscode": {
   "interpreter": {
    "hash": "82b7b66828bfbb138fe4fed64dc7c16a358509a7cc654147d890b82cceb98c19"
   }
  }
 },
 "nbformat": 4,
 "nbformat_minor": 2
}
